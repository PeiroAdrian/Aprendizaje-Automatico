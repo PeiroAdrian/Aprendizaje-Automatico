{
  "cells": [
    {
      "cell_type": "markdown",
      "metadata": {
        "id": "vQ6IpNlovsNh"
      },
      "source": [
        "# Regresión logística"
      ]
    },
    {
      "cell_type": "markdown",
      "metadata": {},
      "source": [
        "Para empezar la practica, importamos las librerias que vamos a utilizar durante la practica de regresion lineal"
      ]
    },
    {
      "cell_type": "code",
      "execution_count": 1,
      "metadata": {
        "id": "pHX08EjFvsNj"
      },
      "outputs": [],
      "source": [
        "import numpy as np\n",
        "import pandas as pd\n",
        "from sklearn import linear_model"
      ]
    },
    {
      "cell_type": "code",
      "execution_count": 52,
      "metadata": {},
      "outputs": [],
      "source": [
        "import pandas as pd\n",
        "import numpy as np\n",
        "import matplotlib.pyplot as plt\n",
        "import seaborn as sns\n",
        "import sklearn.tree as tree"
      ]
    },
    {
      "cell_type": "markdown",
      "metadata": {},
      "source": [
        "Cargamos el dataset"
      ]
    },
    {
      "cell_type": "code",
      "execution_count": 2,
      "metadata": {
        "colab": {
          "base_uri": "https://localhost:8080/",
          "height": 226
        },
        "id": "lOaOCR_RvsNk",
        "outputId": "f4783f57-c8e5-4b39-a4a9-aed1a85a10e2"
      },
      "outputs": [
        {
          "data": {
            "text/html": [
              "<div>\n",
              "<style scoped>\n",
              "    .dataframe tbody tr th:only-of-type {\n",
              "        vertical-align: middle;\n",
              "    }\n",
              "\n",
              "    .dataframe tbody tr th {\n",
              "        vertical-align: top;\n",
              "    }\n",
              "\n",
              "    .dataframe thead th {\n",
              "        text-align: right;\n",
              "    }\n",
              "</style>\n",
              "<table border=\"1\" class=\"dataframe\">\n",
              "  <thead>\n",
              "    <tr style=\"text-align: right;\">\n",
              "      <th></th>\n",
              "      <th>age</th>\n",
              "      <th>ed</th>\n",
              "      <th>employ</th>\n",
              "      <th>address</th>\n",
              "      <th>income</th>\n",
              "      <th>debtinc</th>\n",
              "      <th>creddebt</th>\n",
              "      <th>othdebt</th>\n",
              "      <th>default</th>\n",
              "    </tr>\n",
              "  </thead>\n",
              "  <tbody>\n",
              "    <tr>\n",
              "      <th>0</th>\n",
              "      <td>41</td>\n",
              "      <td>3</td>\n",
              "      <td>17</td>\n",
              "      <td>12</td>\n",
              "      <td>176</td>\n",
              "      <td>9.3</td>\n",
              "      <td>11.359392</td>\n",
              "      <td>5.008608</td>\n",
              "      <td>1.0</td>\n",
              "    </tr>\n",
              "    <tr>\n",
              "      <th>1</th>\n",
              "      <td>27</td>\n",
              "      <td>1</td>\n",
              "      <td>10</td>\n",
              "      <td>6</td>\n",
              "      <td>31</td>\n",
              "      <td>17.3</td>\n",
              "      <td>1.362202</td>\n",
              "      <td>4.000798</td>\n",
              "      <td>0.0</td>\n",
              "    </tr>\n",
              "    <tr>\n",
              "      <th>2</th>\n",
              "      <td>40</td>\n",
              "      <td>1</td>\n",
              "      <td>15</td>\n",
              "      <td>14</td>\n",
              "      <td>55</td>\n",
              "      <td>5.5</td>\n",
              "      <td>0.856075</td>\n",
              "      <td>2.168925</td>\n",
              "      <td>0.0</td>\n",
              "    </tr>\n",
              "    <tr>\n",
              "      <th>3</th>\n",
              "      <td>41</td>\n",
              "      <td>1</td>\n",
              "      <td>15</td>\n",
              "      <td>14</td>\n",
              "      <td>120</td>\n",
              "      <td>2.9</td>\n",
              "      <td>2.658720</td>\n",
              "      <td>0.821280</td>\n",
              "      <td>0.0</td>\n",
              "    </tr>\n",
              "    <tr>\n",
              "      <th>4</th>\n",
              "      <td>24</td>\n",
              "      <td>2</td>\n",
              "      <td>2</td>\n",
              "      <td>0</td>\n",
              "      <td>28</td>\n",
              "      <td>17.3</td>\n",
              "      <td>1.787436</td>\n",
              "      <td>3.056564</td>\n",
              "      <td>1.0</td>\n",
              "    </tr>\n",
              "  </tbody>\n",
              "</table>\n",
              "</div>"
            ],
            "text/plain": [
              "   age  ed  employ  address  income  debtinc   creddebt   othdebt  default\n",
              "0   41   3      17       12     176      9.3  11.359392  5.008608      1.0\n",
              "1   27   1      10        6      31     17.3   1.362202  4.000798      0.0\n",
              "2   40   1      15       14      55      5.5   0.856075  2.168925      0.0\n",
              "3   41   1      15       14     120      2.9   2.658720  0.821280      0.0\n",
              "4   24   2       2        0      28     17.3   1.787436  3.056564      1.0"
            ]
          },
          "execution_count": 2,
          "metadata": {},
          "output_type": "execute_result"
        }
      ],
      "source": [
        "df = pd.read_csv('bank-loan.csv')\n",
        "df.head()"
      ]
    },
    {
      "cell_type": "markdown",
      "metadata": {},
      "source": [
        "Visualizamos la forma del dataset"
      ]
    },
    {
      "cell_type": "code",
      "execution_count": 3,
      "metadata": {
        "colab": {
          "base_uri": "https://localhost:8080/"
        },
        "id": "gIMDzTO-vsNk",
        "outputId": "5fa735b5-c7e4-418d-a3eb-e100eab0b7ed"
      },
      "outputs": [
        {
          "data": {
            "text/plain": [
              "(850, 9)"
            ]
          },
          "execution_count": 3,
          "metadata": {},
          "output_type": "execute_result"
        }
      ],
      "source": [
        "df.shape"
      ]
    },
    {
      "cell_type": "markdown",
      "metadata": {},
      "source": [
        "Visualizamos la informacion del dataset"
      ]
    },
    {
      "cell_type": "code",
      "execution_count": 4,
      "metadata": {
        "colab": {
          "base_uri": "https://localhost:8080/"
        },
        "id": "BpeNAOy1vsNk",
        "outputId": "74994f45-8b23-4464-f221-e00e69161e93"
      },
      "outputs": [
        {
          "name": "stdout",
          "output_type": "stream",
          "text": [
            "<class 'pandas.core.frame.DataFrame'>\n",
            "RangeIndex: 850 entries, 0 to 849\n",
            "Data columns (total 9 columns):\n",
            " #   Column    Non-Null Count  Dtype  \n",
            "---  ------    --------------  -----  \n",
            " 0   age       850 non-null    int64  \n",
            " 1   ed        850 non-null    int64  \n",
            " 2   employ    850 non-null    int64  \n",
            " 3   address   850 non-null    int64  \n",
            " 4   income    850 non-null    int64  \n",
            " 5   debtinc   850 non-null    float64\n",
            " 6   creddebt  850 non-null    float64\n",
            " 7   othdebt   850 non-null    float64\n",
            " 8   default   700 non-null    float64\n",
            "dtypes: float64(4), int64(5)\n",
            "memory usage: 59.9 KB\n"
          ]
        }
      ],
      "source": [
        "df.info()"
      ]
    },
    {
      "cell_type": "markdown",
      "metadata": {},
      "source": [
        "Podemos observar que todas las columnas menos default contienen 850 filas, por lo que vamos a extraer 700 filas el cual lo utilzaremos para crear un modelo de regresión"
      ]
    },
    {
      "cell_type": "code",
      "execution_count": 10,
      "metadata": {},
      "outputs": [
        {
          "data": {
            "text/plain": [
              "age           0\n",
              "ed            0\n",
              "employ        0\n",
              "address       0\n",
              "income        0\n",
              "debtinc       0\n",
              "creddebt      0\n",
              "othdebt       0\n",
              "default     150\n",
              "dtype: int64"
            ]
          },
          "execution_count": 10,
          "metadata": {},
          "output_type": "execute_result"
        }
      ],
      "source": [
        "# Check for missing values\n",
        "df.isnull().sum()"
      ]
    },
    {
      "cell_type": "markdown",
      "metadata": {},
      "source": [
        "Extraemos 700 filas de todas las columnas para llevar a cabo correctamente el procesamiento de datos"
      ]
    },
    {
      "cell_type": "code",
      "execution_count": 17,
      "metadata": {},
      "outputs": [],
      "source": [
        "# Extraer las columnas con 700 registros utilizando iloc\n",
        "x = df.iloc[:700, :8].values\n",
        "\n",
        "y = df.iloc[:700, 8].values\n"
      ]
    },
    {
      "cell_type": "markdown",
      "metadata": {},
      "source": [
        "Vemos el contenido de x"
      ]
    },
    {
      "cell_type": "code",
      "execution_count": 18,
      "metadata": {},
      "outputs": [
        {
          "data": {
            "text/plain": [
              "array([[41.      ,  3.      , 17.      , ...,  9.3     , 11.359392,\n",
              "         5.008608],\n",
              "       [27.      ,  1.      , 10.      , ..., 17.3     ,  1.362202,\n",
              "         4.000798],\n",
              "       [40.      ,  1.      , 15.      , ...,  5.5     ,  0.856075,\n",
              "         2.168925],\n",
              "       ...,\n",
              "       [33.      ,  1.      , 15.      , ...,  7.6     ,  0.491264,\n",
              "         1.940736],\n",
              "       [45.      ,  1.      , 19.      , ...,  8.4     ,  2.302608,\n",
              "         4.165392],\n",
              "       [37.      ,  1.      , 12.      , ..., 14.7     ,  2.994684,\n",
              "         3.473316]])"
            ]
          },
          "execution_count": 18,
          "metadata": {},
          "output_type": "execute_result"
        }
      ],
      "source": [
        "x"
      ]
    },
    {
      "cell_type": "markdown",
      "metadata": {},
      "source": [
        "Vemos el contenido de y"
      ]
    },
    {
      "cell_type": "code",
      "execution_count": 19,
      "metadata": {},
      "outputs": [
        {
          "data": {
            "text/plain": [
              "array([1., 0., 0., 0., 1., 0., 0., 0., 1., 0., 0., 0., 0., 0., 0., 1., 1.,\n",
              "       0., 0., 0., 0., 0., 0., 0., 1., 0., 0., 0., 0., 0., 0., 0., 0., 0.,\n",
              "       0., 0., 0., 0., 1., 0., 0., 0., 0., 0., 1., 0., 0., 0., 1., 0., 1.,\n",
              "       0., 1., 0., 0., 1., 0., 0., 0., 0., 0., 1., 0., 0., 0., 1., 1., 0.,\n",
              "       1., 1., 0., 0., 0., 0., 0., 0., 0., 0., 0., 0., 1., 0., 0., 0., 0.,\n",
              "       0., 1., 0., 0., 1., 0., 1., 0., 1., 1., 0., 0., 0., 0., 1., 0., 0.,\n",
              "       0., 0., 0., 0., 1., 0., 0., 0., 0., 0., 0., 0., 0., 0., 0., 0., 1.,\n",
              "       1., 0., 1., 1., 1., 0., 0., 1., 0., 0., 0., 0., 0., 0., 0., 0., 0.,\n",
              "       0., 0., 0., 1., 1., 1., 0., 0., 0., 0., 0., 0., 0., 0., 0., 1., 0.,\n",
              "       0., 0., 0., 0., 1., 1., 0., 0., 0., 1., 0., 1., 1., 1., 0., 0., 0.,\n",
              "       0., 0., 1., 0., 0., 0., 0., 0., 0., 1., 0., 0., 0., 0., 0., 0., 1.,\n",
              "       0., 0., 0., 1., 0., 1., 1., 0., 0., 1., 0., 0., 1., 0., 1., 0., 0.,\n",
              "       0., 0., 0., 0., 0., 0., 0., 1., 0., 1., 0., 0., 0., 0., 1., 1., 0.,\n",
              "       0., 0., 1., 1., 0., 0., 0., 0., 0., 0., 1., 0., 0., 0., 0., 0., 1.,\n",
              "       0., 1., 0., 0., 0., 0., 0., 0., 0., 0., 0., 0., 0., 1., 0., 0., 0.,\n",
              "       0., 0., 0., 0., 0., 0., 0., 0., 1., 0., 0., 0., 1., 0., 0., 0., 0.,\n",
              "       0., 0., 0., 1., 1., 0., 1., 0., 1., 1., 0., 0., 0., 0., 0., 1., 0.,\n",
              "       0., 0., 0., 0., 0., 1., 0., 0., 0., 1., 0., 1., 0., 0., 0., 0., 0.,\n",
              "       0., 0., 0., 0., 1., 0., 1., 0., 0., 0., 0., 0., 0., 1., 0., 1., 0.,\n",
              "       1., 1., 1., 0., 0., 0., 0., 0., 1., 1., 0., 0., 0., 0., 0., 1., 1.,\n",
              "       0., 0., 0., 1., 0., 1., 0., 0., 0., 0., 0., 0., 0., 0., 1., 1., 1.,\n",
              "       1., 0., 0., 0., 0., 0., 0., 1., 0., 0., 0., 0., 0., 0., 0., 0., 1.,\n",
              "       0., 0., 0., 0., 0., 0., 0., 1., 1., 0., 1., 0., 0., 0., 0., 0., 0.,\n",
              "       1., 0., 1., 1., 0., 0., 0., 0., 1., 0., 0., 0., 1., 0., 0., 0., 0.,\n",
              "       0., 0., 0., 0., 0., 1., 1., 0., 0., 0., 1., 0., 1., 0., 0., 0., 1.,\n",
              "       0., 0., 0., 1., 0., 1., 0., 0., 1., 0., 0., 0., 0., 0., 0., 0., 0.,\n",
              "       0., 1., 1., 0., 0., 0., 1., 1., 0., 0., 0., 0., 1., 0., 0., 0., 0.,\n",
              "       0., 0., 1., 0., 0., 0., 0., 1., 0., 0., 1., 1., 1., 0., 0., 0., 0.,\n",
              "       1., 0., 0., 0., 0., 1., 0., 0., 1., 0., 1., 1., 1., 0., 0., 1., 1.,\n",
              "       1., 1., 1., 0., 0., 1., 1., 0., 1., 0., 0., 1., 0., 0., 0., 0., 0.,\n",
              "       0., 0., 0., 0., 1., 0., 0., 0., 0., 0., 0., 0., 0., 0., 0., 0., 0.,\n",
              "       0., 0., 1., 1., 1., 1., 0., 0., 0., 0., 1., 0., 1., 0., 0., 0., 1.,\n",
              "       0., 0., 0., 0., 1., 1., 1., 1., 0., 0., 0., 0., 0., 0., 1., 0., 0.,\n",
              "       0., 0., 0., 1., 1., 0., 0., 1., 0., 1., 0., 0., 1., 1., 0., 1., 0.,\n",
              "       0., 0., 0., 0., 0., 1., 1., 0., 0., 0., 0., 1., 1., 1., 0., 0., 1.,\n",
              "       0., 1., 1., 0., 1., 0., 0., 0., 0., 1., 0., 1., 0., 0., 0., 1., 0.,\n",
              "       1., 0., 0., 0., 1., 1., 1., 0., 0., 0., 0., 0., 0., 0., 0., 0., 0.,\n",
              "       0., 0., 0., 1., 1., 0., 0., 1., 1., 0., 0., 0., 0., 0., 0., 0., 1.,\n",
              "       0., 0., 0., 0., 1., 0., 0., 1., 0., 0., 0., 0., 0., 0., 0., 1., 0.,\n",
              "       0., 0., 0., 0., 0., 0., 0., 0., 0., 0., 1., 0., 0., 0., 1., 0., 0.,\n",
              "       1., 1., 0., 0., 0., 1., 0., 1., 0., 0., 0., 0., 1., 0., 0., 1., 0.,\n",
              "       0., 0., 0.])"
            ]
          },
          "execution_count": 19,
          "metadata": {},
          "output_type": "execute_result"
        }
      ],
      "source": [
        "y"
      ]
    },
    {
      "cell_type": "markdown",
      "metadata": {},
      "source": [
        "Dividimos  los datos en datasets de prueba y entrenamiento"
      ]
    },
    {
      "cell_type": "code",
      "execution_count": 20,
      "metadata": {
        "id": "WLj52TYnvsNl"
      },
      "outputs": [],
      "source": [
        "from sklearn.model_selection import train_test_split\n",
        "X_train, X_test, Y_train, Y_test = train_test_split (x, y, test_size=0.3, random_state=0)"
      ]
    },
    {
      "cell_type": "markdown",
      "metadata": {},
      "source": [
        "Entrenamos el clasificador de regresión logística"
      ]
    },
    {
      "cell_type": "code",
      "execution_count": 21,
      "metadata": {
        "id": "ksndoiF2vsNm"
      },
      "outputs": [],
      "source": [
        "# Ajustar (entrenar) el clasificador de regresión logística\n",
        "lgm = linear_model.LogisticRegression(C=1e40, solver='newton-cg')\n",
        "hw_model = lgm.fit(X_train, Y_train)"
      ]
    },
    {
      "cell_type": "markdown",
      "metadata": {},
      "source": [
        "Hacemos predicciones sobre el conjunto de prueba x"
      ]
    },
    {
      "cell_type": "code",
      "execution_count": 24,
      "metadata": {},
      "outputs": [],
      "source": [
        "x_prediction = df.iloc[700:, :8].values"
      ]
    },
    {
      "cell_type": "code",
      "execution_count": 25,
      "metadata": {},
      "outputs": [
        {
          "data": {
            "text/plain": [
              "array([[36.      ,  1.      , 16.      , ..., 10.9     ,  0.544128,\n",
              "         2.943872],\n",
              "       [50.      ,  1.      ,  6.      , ..., 12.9     ,  1.316574,\n",
              "         1.392426],\n",
              "       [40.      ,  1.      ,  9.      , ..., 17.      ,  4.8807  ,\n",
              "         0.7293  ],\n",
              "       ...,\n",
              "       [48.      ,  1.      , 13.      , ..., 10.8     ,  0.722304,\n",
              "         3.381696],\n",
              "       [35.      ,  2.      ,  1.      , ...,  7.8     ,  0.417456,\n",
              "         1.454544],\n",
              "       [37.      ,  1.      , 20.      , ..., 12.9     ,  0.89913 ,\n",
              "         4.38987 ]])"
            ]
          },
          "execution_count": 25,
          "metadata": {},
          "output_type": "execute_result"
        }
      ],
      "source": [
        "x_prediction"
      ]
    },
    {
      "cell_type": "markdown",
      "metadata": {},
      "source": [
        "Ahora realizamos preddiciones para x_test y las guardamos en y_pred, para posteriormente compararlas con y_test"
      ]
    },
    {
      "cell_type": "code",
      "execution_count": 26,
      "metadata": {
        "id": "lZLksfAyvsNm"
      },
      "outputs": [
        {
          "data": {
            "text/plain": [
              "array([0., 0., 1., 0., 0., 0., 0., 1., 0., 0., 0., 0., 0., 0., 0., 0., 1.,\n",
              "       0., 0., 0., 0., 0., 0., 0., 0., 0., 0., 0., 0., 0., 0., 0., 1., 0.,\n",
              "       0., 0., 0., 0., 0., 0., 1., 0., 0., 0., 0., 1., 0., 0., 0., 0., 0.,\n",
              "       0., 0., 0., 0., 0., 1., 0., 0., 0., 0., 0., 0., 1., 0., 0., 0., 0.,\n",
              "       0., 0., 1., 0., 0., 1., 0., 0., 0., 1., 0., 0., 0., 1., 0., 0., 1.,\n",
              "       0., 0., 0., 0., 1., 0., 0., 0., 0., 0., 0., 0., 0., 0., 0., 0., 1.,\n",
              "       0., 1., 0., 0., 0., 1., 0., 0., 1., 0., 0., 0., 0., 0., 0., 0., 0.,\n",
              "       0., 0., 0., 1., 0., 0., 1., 1., 0., 0., 0., 0., 0., 0., 0., 0., 0.,\n",
              "       1., 0., 0., 0., 1., 0., 0., 0., 0., 0., 0., 0., 0., 0.])"
            ]
          },
          "execution_count": 26,
          "metadata": {},
          "output_type": "execute_result"
        }
      ],
      "source": [
        "Y_train_pred = hw_model.predict(X_train)\n",
        "Y_test_pred = hw_model.predict(X_test)\n",
        "y_preddiccion_pred = hw_model.predict(x_prediction)\n",
        "y_preddiccion_pred"
      ]
    },
    {
      "cell_type": "markdown",
      "metadata": {},
      "source": [
        "Imprimimos la prediccion anterior generadas por el modelo de regresion logistica y las comparamos con las etiquetas reales"
      ]
    },
    {
      "cell_type": "code",
      "execution_count": 31,
      "metadata": {
        "colab": {
          "base_uri": "https://localhost:8080/"
        },
        "id": "v9K2_6IzvsNn",
        "outputId": "87a8bdd3-10a7-4b85-ccb1-02907b368efb"
      },
      "outputs": [
        {
          "name": "stdout",
          "output_type": "stream",
          "text": [
            "Cliente 1 : No default\n",
            "Cliente 2 : No default\n",
            "Cliente 3 : Default\n",
            "Cliente 4 : No default\n",
            "Cliente 5 : No default\n",
            "Cliente 6 : No default\n",
            "Cliente 7 : No default\n",
            "Cliente 8 : Default\n",
            "Cliente 9 : No default\n",
            "Cliente 10 : No default\n",
            "Cliente 11 : No default\n",
            "Cliente 12 : No default\n",
            "Cliente 13 : No default\n",
            "Cliente 14 : No default\n",
            "Cliente 15 : No default\n",
            "Cliente 16 : No default\n",
            "Cliente 17 : Default\n",
            "Cliente 18 : No default\n",
            "Cliente 19 : No default\n",
            "Cliente 20 : No default\n",
            "Cliente 21 : No default\n",
            "Cliente 22 : No default\n",
            "Cliente 23 : No default\n",
            "Cliente 24 : No default\n",
            "Cliente 25 : No default\n",
            "Cliente 26 : No default\n",
            "Cliente 27 : No default\n",
            "Cliente 28 : No default\n",
            "Cliente 29 : No default\n",
            "Cliente 30 : No default\n",
            "Cliente 31 : No default\n",
            "Cliente 32 : No default\n",
            "Cliente 33 : Default\n",
            "Cliente 34 : No default\n",
            "Cliente 35 : No default\n",
            "Cliente 36 : No default\n",
            "Cliente 37 : No default\n",
            "Cliente 38 : No default\n",
            "Cliente 39 : No default\n",
            "Cliente 40 : No default\n",
            "Cliente 41 : Default\n",
            "Cliente 42 : No default\n",
            "Cliente 43 : No default\n",
            "Cliente 44 : No default\n",
            "Cliente 45 : No default\n",
            "Cliente 46 : Default\n",
            "Cliente 47 : No default\n",
            "Cliente 48 : No default\n",
            "Cliente 49 : No default\n",
            "Cliente 50 : No default\n",
            "Cliente 51 : No default\n",
            "Cliente 52 : No default\n",
            "Cliente 53 : No default\n",
            "Cliente 54 : No default\n",
            "Cliente 55 : No default\n",
            "Cliente 56 : No default\n",
            "Cliente 57 : Default\n",
            "Cliente 58 : No default\n",
            "Cliente 59 : No default\n",
            "Cliente 60 : No default\n",
            "Cliente 61 : No default\n",
            "Cliente 62 : No default\n",
            "Cliente 63 : No default\n",
            "Cliente 64 : Default\n",
            "Cliente 65 : No default\n",
            "Cliente 66 : No default\n",
            "Cliente 67 : No default\n",
            "Cliente 68 : No default\n",
            "Cliente 69 : No default\n",
            "Cliente 70 : No default\n",
            "Cliente 71 : Default\n",
            "Cliente 72 : No default\n",
            "Cliente 73 : No default\n",
            "Cliente 74 : Default\n",
            "Cliente 75 : No default\n",
            "Cliente 76 : No default\n",
            "Cliente 77 : No default\n",
            "Cliente 78 : Default\n",
            "Cliente 79 : No default\n",
            "Cliente 80 : No default\n",
            "Cliente 81 : No default\n",
            "Cliente 82 : Default\n",
            "Cliente 83 : No default\n",
            "Cliente 84 : No default\n",
            "Cliente 85 : Default\n",
            "Cliente 86 : No default\n",
            "Cliente 87 : No default\n",
            "Cliente 88 : No default\n",
            "Cliente 89 : No default\n",
            "Cliente 90 : Default\n",
            "Cliente 91 : No default\n",
            "Cliente 92 : No default\n",
            "Cliente 93 : No default\n",
            "Cliente 94 : No default\n",
            "Cliente 95 : No default\n",
            "Cliente 96 : No default\n",
            "Cliente 97 : No default\n",
            "Cliente 98 : No default\n",
            "Cliente 99 : No default\n",
            "Cliente 100 : No default\n",
            "Cliente 101 : No default\n",
            "Cliente 102 : Default\n",
            "Cliente 103 : No default\n",
            "Cliente 104 : Default\n",
            "Cliente 105 : No default\n",
            "Cliente 106 : No default\n",
            "Cliente 107 : No default\n",
            "Cliente 108 : Default\n",
            "Cliente 109 : No default\n",
            "Cliente 110 : No default\n",
            "Cliente 111 : Default\n",
            "Cliente 112 : No default\n",
            "Cliente 113 : No default\n",
            "Cliente 114 : No default\n",
            "Cliente 115 : No default\n",
            "Cliente 116 : No default\n",
            "Cliente 117 : No default\n",
            "Cliente 118 : No default\n",
            "Cliente 119 : No default\n",
            "Cliente 120 : No default\n",
            "Cliente 121 : No default\n",
            "Cliente 122 : No default\n",
            "Cliente 123 : Default\n",
            "Cliente 124 : No default\n",
            "Cliente 125 : No default\n",
            "Cliente 126 : Default\n",
            "Cliente 127 : Default\n",
            "Cliente 128 : No default\n",
            "Cliente 129 : No default\n",
            "Cliente 130 : No default\n",
            "Cliente 131 : No default\n",
            "Cliente 132 : No default\n",
            "Cliente 133 : No default\n",
            "Cliente 134 : No default\n",
            "Cliente 135 : No default\n",
            "Cliente 136 : No default\n",
            "Cliente 137 : Default\n",
            "Cliente 138 : No default\n",
            "Cliente 139 : No default\n",
            "Cliente 140 : No default\n",
            "Cliente 141 : Default\n",
            "Cliente 142 : No default\n",
            "Cliente 143 : No default\n",
            "Cliente 144 : No default\n",
            "Cliente 145 : No default\n",
            "Cliente 146 : No default\n",
            "Cliente 147 : No default\n",
            "Cliente 148 : No default\n",
            "Cliente 149 : No default\n",
            "Cliente 150 : No default\n"
          ]
        }
      ],
      "source": [
        "for i in range(150):\n",
        "    if y_preddiccion_pred[i] == 0:\n",
        "        result = \"No default\"\n",
        "    else:\n",
        "        result = \"Default\"\n",
        "                \n",
        "    print(\"Cliente\", i+1, \":\", result)\n"
      ]
    },
    {
      "cell_type": "markdown",
      "metadata": {
        "id": "iBnTMqMuvsNn"
      },
      "source": [
        "### Mostrar los valores de los parámetros\n",
        "![alt text](https://miro.medium.com/max/2220/1*siWAvCzFy2zp81pDNoa4UA.png)"
      ]
    },
    {
      "cell_type": "markdown",
      "metadata": {},
      "source": [
        "Imprimimos los valores de los coeficientes y la intersección"
      ]
    },
    {
      "cell_type": "code",
      "execution_count": 32,
      "metadata": {
        "colab": {
          "base_uri": "https://localhost:8080/"
        },
        "id": "KiUJ11MLvsNn",
        "outputId": "19c21254-6117-417f-b2e6-90ccdf640bb2"
      },
      "outputs": [
        {
          "name": "stdout",
          "output_type": "stream",
          "text": [
            "[-0.89488923]\n",
            "[[ 0.00843077  0.12011979 -0.25303381 -0.09506417 -0.00470533  0.045837\n",
            "   0.64086561  0.10047013]]\n"
          ]
        }
      ],
      "source": [
        "# Se tienen 3 valores de theta\n",
        "\n",
        "# para theta_0\n",
        "print (hw_model.intercept_)\n",
        "print(hw_model.coef_)"
      ]
    },
    {
      "cell_type": "markdown",
      "metadata": {
        "id": "0Fm-8evhvsNn"
      },
      "source": [
        "## Modelos de clasificación y métricas"
      ]
    },
    {
      "cell_type": "markdown",
      "metadata": {},
      "source": [
        "Importamos las librebrias para los modelos de clasificacion y las metricas"
      ]
    },
    {
      "cell_type": "code",
      "execution_count": 33,
      "metadata": {
        "id": "vX06QOJLvsNn"
      },
      "outputs": [],
      "source": [
        "# Importar modelos y clases de evaluación de rendimiento desde sklearn\n",
        "from sklearn.linear_model import LogisticRegression\n",
        "from sklearn.metrics import classification_report\n",
        "from sklearn.metrics import confusion_matrix\n",
        "from sklearn.metrics import accuracy_score\n",
        "from sklearn.metrics import roc_auc_score"
      ]
    },
    {
      "cell_type": "markdown",
      "metadata": {},
      "source": [
        "Generamos los modelos de clasificacion y las metricas, utilizando la regresion logistica y la matriz de confusion"
      ]
    },
    {
      "cell_type": "code",
      "execution_count": 34,
      "metadata": {
        "colab": {
          "base_uri": "https://localhost:8080/"
        },
        "id": "x82yWQMWvsNo",
        "outputId": "0dd027b8-35f6-4c0f-b0ca-76bc31ebd177"
      },
      "outputs": [
        {
          "name": "stdout",
          "output_type": "stream",
          "text": [
            " Exactitud (Accuracy) 80.48%\n",
            "\n",
            "Matriz de confusión\n",
            "\n",
            "[[147   8]\n",
            " [ 33  22]]\n",
            "\n",
            "Verdaderos negativos:  147\n",
            "\n",
            "Falsos positivos:  8\n",
            "\n",
            "Falsos negativos:  33\n",
            "\n",
            "Verdaderos positivos:  22\n"
          ]
        }
      ],
      "source": [
        "print(\" Exactitud (Accuracy) {0:.2f}%\\n\".format(100*\n",
        "                        accuracy_score(Y_test, Y_test_pred)))\n",
        "\n",
        "# Muestra la matriz de confusión\n",
        "print('Matriz de confusión\\n')\n",
        "print(confusion_matrix(Y_test, Y_test_pred))\n",
        "\n",
        "# tn, fp, fn, tp = confusion_matrix(logreg_prediction, Y_test).ravel()\n",
        "tn, fp, fn, tp = confusion_matrix(Y_test,Y_test_pred).ravel()\n",
        "print (\"\\nVerdaderos negativos: \", tn)\n",
        "print (\"\\nFalsos positivos: \",fp)\n",
        "print (\"\\nFalsos negativos: \",fn)\n",
        "print (\"\\nVerdaderos positivos: \",tp)"
      ]
    },
    {
      "cell_type": "markdown",
      "metadata": {},
      "source": [
        "Generamos el reporte de clasificacion, mostrandonos la precision, recall, f1-score y support de cada clase"
      ]
    },
    {
      "cell_type": "code",
      "execution_count": 35,
      "metadata": {
        "colab": {
          "base_uri": "https://localhost:8080/"
        },
        "id": "tNwIrjhhvsNo",
        "outputId": "110bce0c-cfb7-41ad-c39e-f3c3c360bbdc"
      },
      "outputs": [
        {
          "name": "stdout",
          "output_type": "stream",
          "text": [
            "              precision    recall  f1-score   support\n",
            "\n",
            "         0.0       0.82      0.95      0.88       155\n",
            "         1.0       0.73      0.40      0.52        55\n",
            "\n",
            "    accuracy                           0.80       210\n",
            "   macro avg       0.77      0.67      0.70       210\n",
            "weighted avg       0.79      0.80      0.78       210\n",
            "\n"
          ]
        }
      ],
      "source": [
        "# Reporte de clasificación\n",
        "print(classification_report(Y_test, Y_test_pred))"
      ]
    },
    {
      "cell_type": "markdown",
      "metadata": {},
      "source": [
        "Y por ulimo obtenemos el puntaje de precision ROC-AUC"
      ]
    },
    {
      "cell_type": "code",
      "execution_count": 36,
      "metadata": {
        "colab": {
          "base_uri": "https://localhost:8080/"
        },
        "id": "w1fXFh2zvsNo",
        "outputId": "039e417a-7902-4268-cb67-4a0a89c907a1"
      },
      "outputs": [
        {
          "name": "stdout",
          "output_type": "stream",
          "text": [
            "Puntaje ROC-AUC Regresión Logística 0.67\n"
          ]
        }
      ],
      "source": [
        "# Obtener el puntaje ROC-AUC\n",
        "print(\"Puntaje ROC-AUC Regresión Logística {0:.2f}\".\n",
        "         format(roc_auc_score(Y_test, Y_test_pred)))"
      ]
    },
    {
      "cell_type": "markdown",
      "metadata": {},
      "source": [
        "Ahora se generan los modelos para KNN y arbol de decisión. Importamos las librerias necesarias para llevar a cabo el desarrollo de los modelos"
      ]
    },
    {
      "cell_type": "code",
      "execution_count": null,
      "metadata": {},
      "outputs": [],
      "source": [
        "from sklearn.neighbors import KNeighborsClassifier #KNN\n",
        "from sklearn.tree import DecisionTreeClassifier #Decision Tree\n",
        "from sklearn.model_selection import train_test_split #training and testing data split\n",
        "from sklearn import metrics #accuracy measure\n",
        "from sklearn.metrics import confusion_matrix #for confusion matrix"
      ]
    },
    {
      "cell_type": "markdown",
      "metadata": {},
      "source": [
        "Primero generamos el modelo KNN"
      ]
    },
    {
      "cell_type": "code",
      "execution_count": 56,
      "metadata": {},
      "outputs": [
        {
          "name": "stdout",
          "output_type": "stream",
          "text": [
            "Exactitud (Accuracy) 72.38%\n",
            "\n"
          ]
        }
      ],
      "source": [
        "# Modelar con KNN\n",
        "from sklearn.neighbors import KNeighborsClassifier\n",
        "knn = KNeighborsClassifier(n_neighbors=5)\n",
        "knn.fit(X_train, Y_train)\n",
        "Y_pred_knn = knn.predict(X_test)\n",
        "print(\"Exactitud (Accuracy) {0:.2f}%\\n\".format(100*accuracy_score(Y_test, Y_pred)))\n"
      ]
    },
    {
      "cell_type": "markdown",
      "metadata": {},
      "source": [
        "Despues, generamos el modelo de arbol de decision con los siguientes parametros"
      ]
    },
    {
      "cell_type": "code",
      "execution_count": 46,
      "metadata": {},
      "outputs": [
        {
          "name": "stdout",
          "output_type": "stream",
          "text": [
            "Exactitud (Accuracy) 71.43%\n",
            "\n"
          ]
        }
      ],
      "source": [
        "# Modelar arbol de decisión\n",
        "from sklearn.tree import DecisionTreeClassifier\n",
        "classTree = DecisionTreeClassifier(criterion=\"entropy\", splitter=\"best\", max_depth = 4)\n",
        "classTree.fit(X_train, Y_train)\n",
        "predTree = classTree.predict(X_test)\n",
        "print(\"Exactitud (Accuracy) {0:.2f}%\\n\".format(100*accuracy_score(Y_test, predTree)))"
      ]
    },
    {
      "cell_type": "code",
      "execution_count": 50,
      "metadata": {},
      "outputs": [],
      "source": [
        "import sklearn.tree as tree"
      ]
    },
    {
      "cell_type": "markdown",
      "metadata": {},
      "source": [
        "Graficamos el arbol de decision"
      ]
    },
    {
      "cell_type": "code",
      "execution_count": 51,
      "metadata": {},
      "outputs": [
        {
          "data": {
            "image/png": "[encoded data removed]",
            "text/plain": [
              "<Figure size 640x480 with 1 Axes>"
            ]
          },
          "metadata": {},
          "output_type": "display_data"
        }
      ],
      "source": [
        "# Graficar arbol de decisión\n",
        "tree.plot_tree(classTree)\n",
        "plt.show()"
      ]
    },
    {
      "cell_type": "markdown",
      "metadata": {},
      "source": [
        "Ahora generamos la matriz de confusion para KNN y el arbol de decision"
      ]
    },
    {
      "cell_type": "code",
      "execution_count": 57,
      "metadata": {},
      "outputs": [
        {
          "data": {
            "image/png": "[encoded data removed]",
            "text/plain": [
              "<Figure size 1200x600 with 4 Axes>"
            ]
          },
          "metadata": {},
          "output_type": "display_data"
        }
      ],
      "source": [
        "#Matriz de confusión para Arbol de decisión\n",
        "cm_tree = confusion_matrix(Y_test, predTree)\n",
        "\n",
        "#Matriz de confusion para KNN\n",
        "cm_knn = confusion_matrix(Y_test, Y_pred_knn)\n",
        "\n",
        "# Configurar la visualización\n",
        "fig, axes = plt.subplots(1, 2, figsize=(12, 6))\n",
        "\n",
        "# Gráfica del Árbol de Decisión\n",
        "sns.heatmap(cm_tree, annot=True, fmt=\"d\", xticklabels=['Default', 'No Default'], yticklabels=['Stroke', 'No Stroke'], ax=axes[0])\n",
        "axes[0].set_title('Matriz de Confusión - Árbol de Decisión')\n",
        "axes[0].set_xlabel('Predicciones')\n",
        "axes[0].set_ylabel('Valores Reales')\n",
        "\n",
        "# Gráfica de KNN\n",
        "sns.heatmap(cm_knn, annot=True, fmt=\"d\", xticklabels=['Default', 'No Default'], yticklabels=['Stroke', 'No Stroke'], ax=axes[1])\n",
        "axes[1].set_title('Matriz de Confusión - KNN')\n",
        "axes[1].set_xlabel('Predicciones')\n",
        "axes[1].set_ylabel('Valores Reales')\n",
        "\n",
        "plt.tight_layout()\n",
        "plt.show()"
      ]
    },
    {
      "cell_type": "markdown",
      "metadata": {},
      "source": [
        "Generamos el reporte de clasificacion para cada uno de los modelos"
      ]
    },
    {
      "cell_type": "code",
      "execution_count": 58,
      "metadata": {},
      "outputs": [
        {
          "name": "stdout",
          "output_type": "stream",
          "text": [
            "              precision    recall  f1-score   support\n",
            "\n",
            "         0.0       0.77      0.88      0.83       155\n",
            "         1.0       0.45      0.27      0.34        55\n",
            "\n",
            "    accuracy                           0.72       210\n",
            "   macro avg       0.61      0.58      0.58       210\n",
            "weighted avg       0.69      0.72      0.70       210\n",
            "\n",
            "              precision    recall  f1-score   support\n",
            "\n",
            "         0.0       0.75      0.91      0.82       155\n",
            "         1.0       0.39      0.16      0.23        55\n",
            "\n",
            "    accuracy                           0.71       210\n",
            "   macro avg       0.57      0.54      0.53       210\n",
            "weighted avg       0.66      0.71      0.67       210\n",
            "\n"
          ]
        }
      ],
      "source": [
        "from sklearn.metrics import classification_report\n",
        "\n",
        "#Clasificacion de reporte para KNN\n",
        "print(classification_report(Y_test, Y_pred_knn))\n",
        "\n",
        "#Clasificacion de reporte para Arbol de decisión\n",
        "print(classification_report(Y_test, predTree))"
      ]
    },
    {
      "cell_type": "markdown",
      "metadata": {},
      "source": [
        "Y por ulimo, graficamos la curva roc con sus respectivos modelos"
      ]
    },
    {
      "cell_type": "code",
      "execution_count": 59,
      "metadata": {},
      "outputs": [
        {
          "name": "stdout",
          "output_type": "stream",
          "text": [
            "AUC Arbol de decisión: 0.72\n",
            "AUC KNN: 0.71\n"
          ]
        },
        {
          "data": {
            "image/png": "[encoded data removed]",
            "text/plain": [
              "<Figure size 640x480 with 1 Axes>"
            ]
          },
          "metadata": {},
          "output_type": "display_data"
        }
      ],
      "source": [
        "#graficar curva roc para arbol de decision y knn\n",
        "from sklearn.metrics import roc_curve\n",
        "from sklearn.metrics import roc_auc_score\n",
        "\n",
        "# Calcular probabilidades de predicción\n",
        "probs_tree = classTree.predict_proba(X_test)\n",
        "probs_knn = knn.predict_proba(X_test)\n",
        "\n",
        "# Mantener solo las probabilidades positivas\n",
        "probs_tree = probs_tree[:, 1]\n",
        "probs_knn = probs_knn[:, 1]\n",
        "\n",
        "#Calcular AUC\n",
        "auc_tree = roc_auc_score(Y_test, probs_tree)\n",
        "auc_knn = roc_auc_score(Y_test, probs_knn)\n",
        "\n",
        "# Imprimir AUC\n",
        "print('AUC Arbol de decisión: %.2f' % auc_tree)\n",
        "print('AUC KNN: %.2f' % auc_knn)\n",
        "\n",
        "# Calcular la curva ROC\n",
        "fpr_tree, tpr_tree, thresholds_tree = roc_curve(Y_test, probs_tree)\n",
        "fpr_knn, tpr_knn, thresholds_knn = roc_curve(Y_test, probs_knn)\n",
        "\n",
        "# Graficar la curva ROC\n",
        "plt.plot([0, 1], [0, 1], linestyle='--', label='Sin información')\n",
        "plt.plot(fpr_tree, tpr_tree, marker='.', label='Arbol de decisión (AUC = %0.2f)' % auc_tree)\n",
        "plt.plot(fpr_knn, tpr_knn, marker='.', label='KNN (AUC = %0.2f)' % auc_knn)\n",
        "plt.xlabel('Tasa de Falsos Positivos')\n",
        "plt.ylabel('Tasa de Verdaderos Positivos')\n",
        "plt.legend()\n",
        "plt.show()"
      ]
    },
    {
      "cell_type": "markdown",
      "metadata": {},
      "source": [
        "# Analisis de resultados"
      ]
    },
    {
      "cell_type": "markdown",
      "metadata": {},
      "source": [
        "Segun los resultados obtenidos, el modelo regresion logistica es el que mejor se ajusta a los datos, ya que tiene un puntaje de precision ROC-AUC de 0.80, lo cual es el valor mas alto de los demas modelos, ademas de tener un recall de 0.95, lo cual es un valor aceptable para el modelo de arbol de decision.\n",
        "Sin embargo, con el los demas modelos de KNN y arbol de decision se obtuvo un puntaje de precision ROC-AUC de 0.72 y 0.71 respectivamente, lo cual es un valor aceptable, pero no es el mejor de los modelos."
      ]
    }
  ],
  "metadata": {
    "colab": {
      "provenance": []
    },
    "kernelspec": {
      "display_name": "Python 3 (ipykernel)",
      "language": "python",
      "name": "python3"
    },
    "language_info": {
      "codemirror_mode": {
        "name": "ipython",
        "version": 3
      },
      "file_extension": ".py",
      "mimetype": "text/x-python",
      "name": "python",
      "nbconvert_exporter": "python",
      "pygments_lexer": "ipython3",
      "version": "3.11.5"
    },
    "vscode": {
      "interpreter": {
        "hash": "ca63332314893c5165355942eb49d0fb9334aa370d01e4b21a19e6e45b9282a0"
      }
    }
  },
  "nbformat": 4,
  "nbformat_minor": 0
}
