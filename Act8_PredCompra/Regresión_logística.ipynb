{
  "cells": [
    {
      "cell_type": "markdown",
      "metadata": {
        "id": "vQ6IpNlovsNh"
      },
      "source": [
        "# Regresión logística"
      ]
    },
    {
      "cell_type": "markdown",
      "metadata": {},
      "source": [
        "Para empezar la practica, importamos las librerias que vamos a utilizar durante la practica de regresion lineal"
      ]
    },
    {
      "cell_type": "code",
      "execution_count": 1,
      "metadata": {
        "id": "pHX08EjFvsNj"
      },
      "outputs": [],
      "source": [
        "import numpy as np\n",
        "import pandas as pd\n",
        "from sklearn import linear_model"
      ]
    },
    {
      "cell_type": "markdown",
      "metadata": {},
      "source": [
        "Cargamos el dataset"
      ]
    },
    {
      "cell_type": "code",
      "execution_count": 149,
      "metadata": {
        "colab": {
          "base_uri": "https://localhost:8080/",
          "height": 226
        },
        "id": "lOaOCR_RvsNk",
        "outputId": "f4783f57-c8e5-4b39-a4a9-aed1a85a10e2"
      },
      "outputs": [
        {
          "data": {
            "text/html": [
              "<div>\n",
              "<style scoped>\n",
              "    .dataframe tbody tr th:only-of-type {\n",
              "        vertical-align: middle;\n",
              "    }\n",
              "\n",
              "    .dataframe tbody tr th {\n",
              "        vertical-align: top;\n",
              "    }\n",
              "\n",
              "    .dataframe thead th {\n",
              "        text-align: right;\n",
              "    }\n",
              "</style>\n",
              "<table border=\"1\" class=\"dataframe\">\n",
              "  <thead>\n",
              "    <tr style=\"text-align: right;\">\n",
              "      <th></th>\n",
              "      <th>User ID</th>\n",
              "      <th>Gender</th>\n",
              "      <th>Age</th>\n",
              "      <th>EstimatedSalary</th>\n",
              "      <th>Purchased</th>\n",
              "    </tr>\n",
              "  </thead>\n",
              "  <tbody>\n",
              "    <tr>\n",
              "      <th>0</th>\n",
              "      <td>15624510</td>\n",
              "      <td>Male</td>\n",
              "      <td>19</td>\n",
              "      <td>19000</td>\n",
              "      <td>0</td>\n",
              "    </tr>\n",
              "    <tr>\n",
              "      <th>1</th>\n",
              "      <td>15810944</td>\n",
              "      <td>Male</td>\n",
              "      <td>35</td>\n",
              "      <td>20000</td>\n",
              "      <td>0</td>\n",
              "    </tr>\n",
              "    <tr>\n",
              "      <th>2</th>\n",
              "      <td>15668575</td>\n",
              "      <td>Female</td>\n",
              "      <td>26</td>\n",
              "      <td>43000</td>\n",
              "      <td>0</td>\n",
              "    </tr>\n",
              "    <tr>\n",
              "      <th>3</th>\n",
              "      <td>15603246</td>\n",
              "      <td>Female</td>\n",
              "      <td>27</td>\n",
              "      <td>57000</td>\n",
              "      <td>0</td>\n",
              "    </tr>\n",
              "    <tr>\n",
              "      <th>4</th>\n",
              "      <td>15804002</td>\n",
              "      <td>Male</td>\n",
              "      <td>19</td>\n",
              "      <td>76000</td>\n",
              "      <td>0</td>\n",
              "    </tr>\n",
              "  </tbody>\n",
              "</table>\n",
              "</div>"
            ],
            "text/plain": [
              "    User ID  Gender  Age  EstimatedSalary  Purchased\n",
              "0  15624510    Male   19            19000          0\n",
              "1  15810944    Male   35            20000          0\n",
              "2  15668575  Female   26            43000          0\n",
              "3  15603246  Female   27            57000          0\n",
              "4  15804002    Male   19            76000          0"
            ]
          },
          "execution_count": 149,
          "metadata": {},
          "output_type": "execute_result"
        }
      ],
      "source": [
        "df = pd.read_csv('Social_Network_Ads.csv')\n",
        "df.head()"
      ]
    },
    {
      "cell_type": "markdown",
      "metadata": {},
      "source": [
        "Visualizamos la forma del dataset"
      ]
    },
    {
      "cell_type": "code",
      "execution_count": 150,
      "metadata": {
        "colab": {
          "base_uri": "https://localhost:8080/"
        },
        "id": "gIMDzTO-vsNk",
        "outputId": "5fa735b5-c7e4-418d-a3eb-e100eab0b7ed"
      },
      "outputs": [
        {
          "data": {
            "text/plain": [
              "(400, 5)"
            ]
          },
          "execution_count": 150,
          "metadata": {},
          "output_type": "execute_result"
        }
      ],
      "source": [
        "df.shape"
      ]
    },
    {
      "cell_type": "markdown",
      "metadata": {},
      "source": [
        "Visualizamos la informacion del dataset"
      ]
    },
    {
      "cell_type": "code",
      "execution_count": 122,
      "metadata": {
        "colab": {
          "base_uri": "https://localhost:8080/"
        },
        "id": "BpeNAOy1vsNk",
        "outputId": "74994f45-8b23-4464-f221-e00e69161e93"
      },
      "outputs": [
        {
          "name": "stdout",
          "output_type": "stream",
          "text": [
            "<class 'pandas.core.frame.DataFrame'>\n",
            "RangeIndex: 400 entries, 0 to 399\n",
            "Data columns (total 5 columns):\n",
            " #   Column           Non-Null Count  Dtype \n",
            "---  ------           --------------  ----- \n",
            " 0   User ID          400 non-null    int64 \n",
            " 1   Gender           400 non-null    object\n",
            " 2   Age              400 non-null    int64 \n",
            " 3   EstimatedSalary  400 non-null    int64 \n",
            " 4   Purchased        400 non-null    int64 \n",
            "dtypes: int64(4), object(1)\n",
            "memory usage: 15.8+ KB\n"
          ]
        }
      ],
      "source": [
        "df.info()"
      ]
    },
    {
      "cell_type": "markdown",
      "metadata": {},
      "source": [
        "Observamos en la celda anterior que en la columna genero \n",
        "contiene valores de tipo string, por lo que vamos a convertirlos a valores numericos"
      ]
    },
    {
      "cell_type": "code",
      "execution_count": 151,
      "metadata": {},
      "outputs": [
        {
          "name": "stdout",
          "output_type": "stream",
          "text": [
            "      User ID  Gender  Age  EstimatedSalary  Purchased\n",
            "0    15624510       1   19            19000          0\n",
            "1    15810944       1   35            20000          0\n",
            "2    15668575       0   26            43000          0\n",
            "3    15603246       0   27            57000          0\n",
            "4    15804002       1   19            76000          0\n",
            "..        ...     ...  ...              ...        ...\n",
            "395  15691863       0   46            41000          1\n",
            "396  15706071       1   51            23000          1\n",
            "397  15654296       0   50            20000          1\n",
            "398  15755018       1   36            33000          0\n",
            "399  15594041       0   49            36000          1\n",
            "\n",
            "[400 rows x 5 columns]\n"
          ]
        }
      ],
      "source": [
        "from sklearn.preprocessing import LabelEncoder\n",
        "\n",
        "# Crear una instancia de LabelEncoder\n",
        "labelencoder = LabelEncoder()\n",
        "\n",
        "# Convertir la columna 'Gender' a numérica\n",
        "df['Gender'] = labelencoder.fit_transform(df['Gender'])\n",
        "\n",
        "# Ver el resultado\n",
        "print(df)"
      ]
    },
    {
      "cell_type": "markdown",
      "metadata": {},
      "source": [
        "Extraemos las columnas que usaremos para x,y"
      ]
    },
    {
      "cell_type": "code",
      "execution_count": 152,
      "metadata": {
        "id": "rthy84AcvsNl"
      },
      "outputs": [],
      "source": [
        "x = df[['Gender', 'Age', 'EstimatedSalary']]\n",
        "y = df['Purchased']"
      ]
    },
    {
      "cell_type": "markdown",
      "metadata": {},
      "source": [
        "Vemos el contenido de x"
      ]
    },
    {
      "cell_type": "code",
      "execution_count": 153,
      "metadata": {},
      "outputs": [
        {
          "data": {
            "text/html": [
              "<div>\n",
              "<style scoped>\n",
              "    .dataframe tbody tr th:only-of-type {\n",
              "        vertical-align: middle;\n",
              "    }\n",
              "\n",
              "    .dataframe tbody tr th {\n",
              "        vertical-align: top;\n",
              "    }\n",
              "\n",
              "    .dataframe thead th {\n",
              "        text-align: right;\n",
              "    }\n",
              "</style>\n",
              "<table border=\"1\" class=\"dataframe\">\n",
              "  <thead>\n",
              "    <tr style=\"text-align: right;\">\n",
              "      <th></th>\n",
              "      <th>Gender</th>\n",
              "      <th>Age</th>\n",
              "      <th>EstimatedSalary</th>\n",
              "    </tr>\n",
              "  </thead>\n",
              "  <tbody>\n",
              "    <tr>\n",
              "      <th>0</th>\n",
              "      <td>1</td>\n",
              "      <td>19</td>\n",
              "      <td>19000</td>\n",
              "    </tr>\n",
              "    <tr>\n",
              "      <th>1</th>\n",
              "      <td>1</td>\n",
              "      <td>35</td>\n",
              "      <td>20000</td>\n",
              "    </tr>\n",
              "    <tr>\n",
              "      <th>2</th>\n",
              "      <td>0</td>\n",
              "      <td>26</td>\n",
              "      <td>43000</td>\n",
              "    </tr>\n",
              "    <tr>\n",
              "      <th>3</th>\n",
              "      <td>0</td>\n",
              "      <td>27</td>\n",
              "      <td>57000</td>\n",
              "    </tr>\n",
              "    <tr>\n",
              "      <th>4</th>\n",
              "      <td>1</td>\n",
              "      <td>19</td>\n",
              "      <td>76000</td>\n",
              "    </tr>\n",
              "    <tr>\n",
              "      <th>...</th>\n",
              "      <td>...</td>\n",
              "      <td>...</td>\n",
              "      <td>...</td>\n",
              "    </tr>\n",
              "    <tr>\n",
              "      <th>395</th>\n",
              "      <td>0</td>\n",
              "      <td>46</td>\n",
              "      <td>41000</td>\n",
              "    </tr>\n",
              "    <tr>\n",
              "      <th>396</th>\n",
              "      <td>1</td>\n",
              "      <td>51</td>\n",
              "      <td>23000</td>\n",
              "    </tr>\n",
              "    <tr>\n",
              "      <th>397</th>\n",
              "      <td>0</td>\n",
              "      <td>50</td>\n",
              "      <td>20000</td>\n",
              "    </tr>\n",
              "    <tr>\n",
              "      <th>398</th>\n",
              "      <td>1</td>\n",
              "      <td>36</td>\n",
              "      <td>33000</td>\n",
              "    </tr>\n",
              "    <tr>\n",
              "      <th>399</th>\n",
              "      <td>0</td>\n",
              "      <td>49</td>\n",
              "      <td>36000</td>\n",
              "    </tr>\n",
              "  </tbody>\n",
              "</table>\n",
              "<p>400 rows × 3 columns</p>\n",
              "</div>"
            ],
            "text/plain": [
              "     Gender  Age  EstimatedSalary\n",
              "0         1   19            19000\n",
              "1         1   35            20000\n",
              "2         0   26            43000\n",
              "3         0   27            57000\n",
              "4         1   19            76000\n",
              "..      ...  ...              ...\n",
              "395       0   46            41000\n",
              "396       1   51            23000\n",
              "397       0   50            20000\n",
              "398       1   36            33000\n",
              "399       0   49            36000\n",
              "\n",
              "[400 rows x 3 columns]"
            ]
          },
          "execution_count": 153,
          "metadata": {},
          "output_type": "execute_result"
        }
      ],
      "source": [
        "x"
      ]
    },
    {
      "cell_type": "markdown",
      "metadata": {},
      "source": [
        "Vemos el contenido de y"
      ]
    },
    {
      "cell_type": "code",
      "execution_count": 156,
      "metadata": {},
      "outputs": [
        {
          "data": {
            "text/plain": [
              "0      0\n",
              "1      0\n",
              "2      0\n",
              "3      0\n",
              "4      0\n",
              "      ..\n",
              "395    1\n",
              "396    1\n",
              "397    1\n",
              "398    0\n",
              "399    1\n",
              "Name: Purchased, Length: 400, dtype: int64"
            ]
          },
          "execution_count": 156,
          "metadata": {},
          "output_type": "execute_result"
        }
      ],
      "source": [
        "y"
      ]
    },
    {
      "cell_type": "markdown",
      "metadata": {},
      "source": [
        "Dividimos  los datos en datasets de prueba y entrenamiento"
      ]
    },
    {
      "cell_type": "code",
      "execution_count": 157,
      "metadata": {
        "id": "WLj52TYnvsNl"
      },
      "outputs": [],
      "source": [
        "from sklearn.model_selection import train_test_split\n",
        "X_train, X_test, Y_train, Y_test = train_test_split (x, y, test_size=0.3, random_state=0)"
      ]
    },
    {
      "cell_type": "markdown",
      "metadata": {},
      "source": [
        "Entrenamos el clasificador de regresión logística"
      ]
    },
    {
      "cell_type": "code",
      "execution_count": 158,
      "metadata": {
        "id": "ksndoiF2vsNm"
      },
      "outputs": [
        {
          "name": "stderr",
          "output_type": "stream",
          "text": [
            "c:\\Users\\Adrian\\AppData\\Local\\Programs\\Python\\Python311\\Lib\\site-packages\\scipy\\optimize\\_linesearch.py:466: LineSearchWarning: The line search algorithm did not converge\n",
            "  warn('The line search algorithm did not converge', LineSearchWarning)\n",
            "c:\\Users\\Adrian\\AppData\\Local\\Programs\\Python\\Python311\\Lib\\site-packages\\scipy\\optimize\\_linesearch.py:314: LineSearchWarning: The line search algorithm did not converge\n",
            "  warn('The line search algorithm did not converge', LineSearchWarning)\n",
            "c:\\Users\\Adrian\\AppData\\Local\\Programs\\Python\\Python311\\Lib\\site-packages\\scipy\\optimize\\_linesearch.py:425: LineSearchWarning: Rounding errors prevent the line search from converging\n",
            "  warn(msg, LineSearchWarning)\n",
            "c:\\Users\\Adrian\\AppData\\Local\\Programs\\Python\\Python311\\Lib\\site-packages\\sklearn\\utils\\optimize.py:204: UserWarning: Line Search failed\n",
            "  warnings.warn(\"Line Search failed\")\n"
          ]
        }
      ],
      "source": [
        "# Ajustar (entrenar) el clasificador de regresión logística\n",
        "lgm = linear_model.LogisticRegression(C=1e40, solver='newton-cg')\n",
        "hw_model = lgm.fit(X_train, Y_train)"
      ]
    },
    {
      "cell_type": "markdown",
      "metadata": {},
      "source": [
        "Hacemos predicciones sobre el conjunto de prueba"
      ]
    },
    {
      "cell_type": "code",
      "execution_count": 159,
      "metadata": {
        "id": "lZLksfAyvsNm"
      },
      "outputs": [],
      "source": [
        "Y_train_pred = hw_model.predict(X_train)\n",
        "Y_test_pred = hw_model.predict(X_test)"
      ]
    },
    {
      "cell_type": "markdown",
      "metadata": {},
      "source": [
        "Ingresamos valores de prueba para predecir si la persona compro el producto o no"
      ]
    },
    {
      "cell_type": "code",
      "execution_count": 160,
      "metadata": {
        "id": "Gprytz6rvsNm"
      },
      "outputs": [
        {
          "name": "stderr",
          "output_type": "stream",
          "text": [
            "c:\\Users\\Adrian\\AppData\\Local\\Programs\\Python\\Python311\\Lib\\site-packages\\sklearn\\base.py:465: UserWarning: X does not have valid feature names, but LogisticRegression was fitted with feature names\n",
            "  warnings.warn(\n"
          ]
        }
      ],
      "source": [
        "Gender = 1\n",
        "Age = 31\n",
        "EstimatedSalary = 74000\n",
        "\n",
        "# Predicción\n",
        "prediction = lgm.predict ([(Gender, Age, EstimatedSalary)])\n"
      ]
    },
    {
      "cell_type": "markdown",
      "metadata": {},
      "source": [
        "Imprimimos la prediccion anterior"
      ]
    },
    {
      "cell_type": "code",
      "execution_count": 161,
      "metadata": {
        "colab": {
          "base_uri": "https://localhost:8080/"
        },
        "id": "v9K2_6IzvsNn",
        "outputId": "87a8bdd3-10a7-4b85-ccb1-02907b368efb"
      },
      "outputs": [
        {
          "name": "stdout",
          "output_type": "stream",
          "text": [
            "La persona : Compro\n"
          ]
        }
      ],
      "source": [
        "if prediction[0]==0:\n",
        "    result = \"Compro\"\n",
        "else:\n",
        "    result = \"No Compro\"\n",
        "\n",
        "print(\"La persona : \" + result)"
      ]
    },
    {
      "cell_type": "markdown",
      "metadata": {
        "id": "iBnTMqMuvsNn"
      },
      "source": [
        "### Mostrar los valores de los parámetros\n",
        "![alt text](https://miro.medium.com/max/2220/1*siWAvCzFy2zp81pDNoa4UA.png)"
      ]
    },
    {
      "cell_type": "markdown",
      "metadata": {},
      "source": [
        "Imprimimos los valores de los coeficientes y la intersección"
      ]
    },
    {
      "cell_type": "code",
      "execution_count": 162,
      "metadata": {
        "colab": {
          "base_uri": "https://localhost:8080/"
        },
        "id": "KiUJ11MLvsNn",
        "outputId": "19c21254-6117-417f-b2e6-90ccdf640bb2"
      },
      "outputs": [
        {
          "name": "stdout",
          "output_type": "stream",
          "text": [
            "[-12.1729694]\n",
            "[[2.73123595e-01 2.26683467e-01 3.41059643e-05]]\n"
          ]
        }
      ],
      "source": [
        "# Se tienen 3 valores de theta\n",
        "\n",
        "# para theta_0\n",
        "print (hw_model.intercept_)\n",
        "print(hw_model.coef_)"
      ]
    },
    {
      "cell_type": "markdown",
      "metadata": {
        "id": "0Fm-8evhvsNn"
      },
      "source": [
        "## Modelos de clasificación y métricas"
      ]
    },
    {
      "cell_type": "markdown",
      "metadata": {},
      "source": [
        "Importamos las librebrias para los modelos de clasificacion y las metricas"
      ]
    },
    {
      "cell_type": "code",
      "execution_count": 163,
      "metadata": {
        "id": "vX06QOJLvsNn"
      },
      "outputs": [],
      "source": [
        "# Importar modelos y clases de evaluación de rendimiento desde sklearn\n",
        "\n",
        "from sklearn.linear_model import LogisticRegression\n",
        "\n",
        "from sklearn.metrics import classification_report\n",
        "from sklearn.metrics import confusion_matrix\n",
        "from sklearn.metrics import accuracy_score\n",
        "from sklearn.metrics import roc_auc_score"
      ]
    },
    {
      "cell_type": "markdown",
      "metadata": {},
      "source": [
        "Generamos los modelos de clasificacion y las metricas"
      ]
    },
    {
      "cell_type": "code",
      "execution_count": 164,
      "metadata": {
        "colab": {
          "base_uri": "https://localhost:8080/"
        },
        "id": "x82yWQMWvsNo",
        "outputId": "0dd027b8-35f6-4c0f-b0ca-76bc31ebd177"
      },
      "outputs": [
        {
          "name": "stdout",
          "output_type": "stream",
          "text": [
            " Exactitud (Accuracy) 89.17%\n",
            "\n",
            "Matriz de confusión\n",
            "\n",
            "[[74  5]\n",
            " [ 8 33]]\n",
            "\n",
            "Verdaderos negativos:  74\n",
            "\n",
            "Falsos positivos:  5\n",
            "\n",
            "Falsos negativos:  8\n",
            "\n",
            "Verdaderos positivos:  33\n"
          ]
        }
      ],
      "source": [
        "print(\" Exactitud (Accuracy) {0:.2f}%\\n\".format(100*\n",
        "                        accuracy_score(Y_test, Y_test_pred)))\n",
        "\n",
        "# Muestra la matriz de confusión\n",
        "print('Matriz de confusión\\n')\n",
        "print(confusion_matrix(Y_test, Y_test_pred))\n",
        "\n",
        "# tn, fp, fn, tp = confusion_matrix(logreg_prediction, Y_test).ravel()\n",
        "tn, fp, fn, tp = confusion_matrix(Y_test,Y_test_pred).ravel()\n",
        "print (\"\\nVerdaderos negativos: \", tn)\n",
        "print (\"\\nFalsos positivos: \",fp)\n",
        "print (\"\\nFalsos negativos: \",fn)\n",
        "print (\"\\nVerdaderos positivos: \",tp)"
      ]
    },
    {
      "cell_type": "markdown",
      "metadata": {},
      "source": [
        "Generamos el reporte de clasificacion"
      ]
    },
    {
      "cell_type": "code",
      "execution_count": 165,
      "metadata": {
        "colab": {
          "base_uri": "https://localhost:8080/"
        },
        "id": "tNwIrjhhvsNo",
        "outputId": "110bce0c-cfb7-41ad-c39e-f3c3c360bbdc"
      },
      "outputs": [
        {
          "name": "stdout",
          "output_type": "stream",
          "text": [
            "              precision    recall  f1-score   support\n",
            "\n",
            "           0       0.90      0.94      0.92        79\n",
            "           1       0.87      0.80      0.84        41\n",
            "\n",
            "    accuracy                           0.89       120\n",
            "   macro avg       0.89      0.87      0.88       120\n",
            "weighted avg       0.89      0.89      0.89       120\n",
            "\n"
          ]
        }
      ],
      "source": [
        "# Reporte de clasificación\n",
        "print(classification_report(Y_test, Y_test_pred))"
      ]
    },
    {
      "cell_type": "markdown",
      "metadata": {},
      "source": [
        "Y por ulimo obtenemos el puntaje de precision"
      ]
    },
    {
      "cell_type": "code",
      "execution_count": 166,
      "metadata": {
        "colab": {
          "base_uri": "https://localhost:8080/"
        },
        "id": "w1fXFh2zvsNo",
        "outputId": "039e417a-7902-4268-cb67-4a0a89c907a1"
      },
      "outputs": [
        {
          "name": "stdout",
          "output_type": "stream",
          "text": [
            "Puntaje ROC-AUC Regresión Logística 0.87\n"
          ]
        }
      ],
      "source": [
        "# Obtener el puntaje ROC-AUC\n",
        "print(\"Puntaje ROC-AUC Regresión Logística {0:.2f}\".\n",
        "         format(roc_auc_score(Y_test, Y_test_pred)))"
      ]
    }
  ],
  "metadata": {
    "colab": {
      "provenance": []
    },
    "kernelspec": {
      "display_name": "Python 3 (ipykernel)",
      "language": "python",
      "name": "python3"
    },
    "language_info": {
      "codemirror_mode": {
        "name": "ipython",
        "version": 3
      },
      "file_extension": ".py",
      "mimetype": "text/x-python",
      "name": "python",
      "nbconvert_exporter": "python",
      "pygments_lexer": "ipython3",
      "version": "3.11.5"
    },
    "vscode": {
      "interpreter": {
        "hash": "ca63332314893c5165355942eb49d0fb9334aa370d01e4b21a19e6e45b9282a0"
      }
    }
  },
  "nbformat": 4,
  "nbformat_minor": 0
}
