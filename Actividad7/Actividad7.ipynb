{
 "cells": [
  {
   "cell_type": "code",
   "execution_count": 27,
   "metadata": {},
   "outputs": [],
   "source": [
    "import pandas as pd\n",
    "# importa la librería pandas y la asigna a la variable pd"
   ]
  },
  {
   "cell_type": "code",
   "execution_count": 28,
   "metadata": {},
   "outputs": [],
   "source": [
    "datos_consumo = pd.read_excel('datos.xlsx', sheet_name=\"Hoja1\")\n",
    "# indicamos el nombre de nuestro archivo a ser leído"
   ]
  },
  {
   "cell_type": "code",
   "execution_count": 29,
   "metadata": {},
   "outputs": [
    {
     "data": {
      "text/html": [
       "<div>\n",
       "<style scoped>\n",
       "    .dataframe tbody tr th:only-of-type {\n",
       "        vertical-align: middle;\n",
       "    }\n",
       "\n",
       "    .dataframe tbody tr th {\n",
       "        vertical-align: top;\n",
       "    }\n",
       "\n",
       "    .dataframe thead th {\n",
       "        text-align: right;\n",
       "    }\n",
       "</style>\n",
       "<table border=\"1\" class=\"dataframe\">\n",
       "  <thead>\n",
       "    <tr style=\"text-align: right;\">\n",
       "      <th></th>\n",
       "      <th>Fecha (dd/mm/aa)</th>\n",
       "      <th>Momento</th>\n",
       "      <th>Nombre alimento</th>\n",
       "      <th>Calorías (kcal)</th>\n",
       "      <th>Carbohidratos (g)</th>\n",
       "      <th>Lípidos/grasas (g)</th>\n",
       "      <th>Proteína (g)</th>\n",
       "      <th>Sodio (mg)</th>\n",
       "      <th>Fuente</th>\n",
       "    </tr>\n",
       "  </thead>\n",
       "  <tbody>\n",
       "    <tr>\n",
       "      <th>0</th>\n",
       "      <td>2022-08-18</td>\n",
       "      <td>desayno</td>\n",
       "      <td>capuccino</td>\n",
       "      <td>74</td>\n",
       "      <td>5.81</td>\n",
       "      <td>3.98</td>\n",
       "      <td>5.08</td>\n",
       "      <td>50</td>\n",
       "      <td>https://www.fatsecret.com.mx/calor%C3%ADas-nut...</td>\n",
       "    </tr>\n",
       "    <tr>\n",
       "      <th>1</th>\n",
       "      <td>2022-08-18</td>\n",
       "      <td>snack</td>\n",
       "      <td>fresas con chamoy</td>\n",
       "      <td>56</td>\n",
       "      <td>14.00</td>\n",
       "      <td>0.00</td>\n",
       "      <td>0.00</td>\n",
       "      <td>2</td>\n",
       "      <td>https://www.fatsecret.com.mx/calor%C3%ADas-nut...</td>\n",
       "    </tr>\n",
       "    <tr>\n",
       "      <th>2</th>\n",
       "      <td>2022-08-18</td>\n",
       "      <td>comida</td>\n",
       "      <td>2 tacos de pollo y brocoli</td>\n",
       "      <td>400</td>\n",
       "      <td>16.60</td>\n",
       "      <td>0.00</td>\n",
       "      <td>0.96</td>\n",
       "      <td>98</td>\n",
       "      <td>https://www.fatsecret.com.mx/calor%C3%ADas-nut...</td>\n",
       "    </tr>\n",
       "    <tr>\n",
       "      <th>3</th>\n",
       "      <td>2022-08-18</td>\n",
       "      <td>cena</td>\n",
       "      <td>quesadillas</td>\n",
       "      <td>225</td>\n",
       "      <td>22.35</td>\n",
       "      <td>0.00</td>\n",
       "      <td>10.00</td>\n",
       "      <td>409</td>\n",
       "      <td>https://www.fatsecret.com.mx/calor%C3%ADas-nut...</td>\n",
       "    </tr>\n",
       "    <tr>\n",
       "      <th>4</th>\n",
       "      <td>2022-08-19</td>\n",
       "      <td>desayuno</td>\n",
       "      <td>latte helado</td>\n",
       "      <td>99</td>\n",
       "      <td>17.00</td>\n",
       "      <td>0.00</td>\n",
       "      <td>1.00</td>\n",
       "      <td>30</td>\n",
       "      <td>https://www.fatsecret.com.mx/calor%C3%ADas-nut...</td>\n",
       "    </tr>\n",
       "  </tbody>\n",
       "</table>\n",
       "</div>"
      ],
      "text/plain": [
       "  Fecha (dd/mm/aa)   Momento             Nombre alimento  Calorías (kcal)  \\\n",
       "0       2022-08-18  desayno                    capuccino               74   \n",
       "1       2022-08-18     snack           fresas con chamoy               56   \n",
       "2       2022-08-18    comida  2 tacos de pollo y brocoli              400   \n",
       "3       2022-08-18      cena                 quesadillas              225   \n",
       "4       2022-08-19  desayuno                latte helado               99   \n",
       "\n",
       "   Carbohidratos (g)  Lípidos/grasas (g)  Proteína (g)  Sodio (mg)  \\\n",
       "0               5.81                3.98          5.08          50   \n",
       "1              14.00                0.00          0.00           2   \n",
       "2              16.60                0.00          0.96          98   \n",
       "3              22.35                0.00         10.00         409   \n",
       "4              17.00                0.00          1.00          30   \n",
       "\n",
       "                                              Fuente  \n",
       "0  https://www.fatsecret.com.mx/calor%C3%ADas-nut...  \n",
       "1  https://www.fatsecret.com.mx/calor%C3%ADas-nut...  \n",
       "2  https://www.fatsecret.com.mx/calor%C3%ADas-nut...  \n",
       "3  https://www.fatsecret.com.mx/calor%C3%ADas-nut...  \n",
       "4  https://www.fatsecret.com.mx/calor%C3%ADas-nut...  "
      ]
     },
     "execution_count": 29,
     "metadata": {},
     "output_type": "execute_result"
    }
   ],
   "source": [
    "datos_consumo.head()"
   ]
  },
  {
   "cell_type": "code",
   "execution_count": 30,
   "metadata": {},
   "outputs": [],
   "source": [
    "datos_consumo['Momento'] = datos_consumo['Momento'].replace({'desayno ': 'desayuno', 'cena ': 'cena'})"
   ]
  },
  {
   "cell_type": "code",
   "execution_count": 31,
   "metadata": {},
   "outputs": [],
   "source": [
    "datos_consumo = datos_consumo[['Carbohidratos (g)', 'Lípidos/grasas (g)', 'Proteína (g)', 'Sodio (mg)', 'Calorías (kcal)']].dropna()"
   ]
  },
  {
   "cell_type": "code",
   "execution_count": 32,
   "metadata": {},
   "outputs": [],
   "source": [
    "# Asigna las variables X e y para contener los datos de las variables independientes y la variable dependiente respectivamente.\n",
    "X = datos_consumo[['Carbohidratos (g)', 'Lípidos/grasas (g)', 'Proteína (g)', 'Sodio (mg)']]\n",
    "y = datos_consumo['Calorías (kcal)']"
   ]
  },
  {
   "cell_type": "code",
   "execution_count": 33,
   "metadata": {},
   "outputs": [],
   "source": [
    "# Importa la clase OLS de la librería statsmodels.api.\n",
    "import statsmodels.api as sm"
   ]
  },
  {
   "cell_type": "code",
   "execution_count": 34,
   "metadata": {},
   "outputs": [
    {
     "name": "stdout",
     "output_type": "stream",
     "text": [
      "                            OLS Regression Results                            \n",
      "==============================================================================\n",
      "Dep. Variable:        Calorías (kcal)   R-squared:                       0.907\n",
      "Model:                            OLS   Adj. R-squared:                  0.906\n",
      "Method:                 Least Squares   F-statistic:                     724.7\n",
      "Date:                Wed, 28 Feb 2024   Prob (F-statistic):          8.07e-152\n",
      "Time:                        12:45:33   Log-Likelihood:                -1594.2\n",
      "No. Observations:                 302   AIC:                             3198.\n",
      "Df Residuals:                     297   BIC:                             3217.\n",
      "Df Model:                           4                                         \n",
      "Covariance Type:            nonrobust                                         \n",
      "======================================================================================\n",
      "                         coef    std err          t      P>|t|      [0.025      0.975]\n",
      "--------------------------------------------------------------------------------------\n",
      "const                 16.3254      5.198      3.140      0.002       6.095      26.556\n",
      "Carbohidratos (g)      4.1079      0.146     28.143      0.000       3.821       4.395\n",
      "Lípidos/grasas (g)     7.4103      0.453     16.367      0.000       6.519       8.301\n",
      "Proteína (g)           4.4411      0.368     12.055      0.000       3.716       5.166\n",
      "Sodio (mg)             0.0009      0.003      0.275      0.783      -0.005       0.007\n",
      "==============================================================================\n",
      "Omnibus:                      326.353   Durbin-Watson:                   1.727\n",
      "Prob(Omnibus):                  0.000   Jarque-Bera (JB):            11003.111\n",
      "Skew:                           4.745   Prob(JB):                         0.00\n",
      "Kurtosis:                      31.007   Cond. No.                     1.99e+03\n",
      "==============================================================================\n",
      "\n",
      "Notes:\n",
      "[1] Standard Errors assume that the covariance matrix of the errors is correctly specified.\n",
      "[2] The condition number is large, 1.99e+03. This might indicate that there are\n",
      "strong multicollinearity or other numerical problems.\n"
     ]
    }
   ],
   "source": [
    "# Crea un objeto modelo_regresion ajustando un modelo de regresión lineal con y como variable dependiente y X como variables independientes.\n",
    "modelo_regresion = sm.OLS(y, sm.add_constant(X)).fit()\n",
    "\n",
    "# Imprime un resumen del modelo de regresión ajustado.\n",
    "print(modelo_regresion.summary())"
   ]
  },
  {
   "cell_type": "code",
   "execution_count": 35,
   "metadata": {},
   "outputs": [
    {
     "name": "stdout",
     "output_type": "stream",
     "text": [
      "const 0.001856626898508601\n",
      "Carbohidratos (g) 8.673423071464274e-86\n",
      "Lípidos/grasas (g) 2.3212407631535497e-43\n",
      "Proteína (g) 1.647850524814543e-27\n"
     ]
    }
   ],
   "source": [
    "# Recorre los coeficientes del modelo y selecciona las variables con un valor p inferior a 0.05.\n",
    "for i in range(len(modelo_regresion.pvalues)):\n",
    "    if modelo_regresion.pvalues[i] < 0.05:\n",
    "        print(modelo_regresion.pvalues.index[i], modelo_regresion.pvalues[i])"
   ]
  },
  {
   "cell_type": "code",
   "execution_count": 36,
   "metadata": {},
   "outputs": [],
   "source": [
    "# Almacena las variables significativas en una lista llamada variables_significativas.\n",
    "variables_significativas = ['Carbohidratos (g)', 'Lípidos/grasas (g)', 'Proteína (g)', 'Sodio (mg)']"
   ]
  },
  {
   "cell_type": "code",
   "execution_count": 37,
   "metadata": {},
   "outputs": [
    {
     "name": "stdout",
     "output_type": "stream",
     "text": [
      "                            OLS Regression Results                            \n",
      "==============================================================================\n",
      "Dep. Variable:        Calorías (kcal)   R-squared:                       0.907\n",
      "Model:                            OLS   Adj. R-squared:                  0.906\n",
      "Method:                 Least Squares   F-statistic:                     724.7\n",
      "Date:                Wed, 28 Feb 2024   Prob (F-statistic):          8.07e-152\n",
      "Time:                        12:45:33   Log-Likelihood:                -1594.2\n",
      "No. Observations:                 302   AIC:                             3198.\n",
      "Df Residuals:                     297   BIC:                             3217.\n",
      "Df Model:                           4                                         \n",
      "Covariance Type:            nonrobust                                         \n",
      "======================================================================================\n",
      "                         coef    std err          t      P>|t|      [0.025      0.975]\n",
      "--------------------------------------------------------------------------------------\n",
      "const                 16.3254      5.198      3.140      0.002       6.095      26.556\n",
      "Carbohidratos (g)      4.1079      0.146     28.143      0.000       3.821       4.395\n",
      "Lípidos/grasas (g)     7.4103      0.453     16.367      0.000       6.519       8.301\n",
      "Proteína (g)           4.4411      0.368     12.055      0.000       3.716       5.166\n",
      "Sodio (mg)             0.0009      0.003      0.275      0.783      -0.005       0.007\n",
      "==============================================================================\n",
      "Omnibus:                      326.353   Durbin-Watson:                   1.727\n",
      "Prob(Omnibus):                  0.000   Jarque-Bera (JB):            11003.111\n",
      "Skew:                           4.745   Prob(JB):                         0.00\n",
      "Kurtosis:                      31.007   Cond. No.                     1.99e+03\n",
      "==============================================================================\n",
      "\n",
      "Notes:\n",
      "[1] Standard Errors assume that the covariance matrix of the errors is correctly specified.\n",
      "[2] The condition number is large, 1.99e+03. This might indicate that there are\n",
      "strong multicollinearity or other numerical problems.\n"
     ]
    }
   ],
   "source": [
    "# Crea un nuevo conjunto de datos X_seleccionado que contiene solo las variables significativas.\n",
    "X_seleccionado = datos_consumo[variables_significativas]\n",
    "\n",
    "# Ajusta un nuevo modelo de regresión lineal con y como variable dependiente y X_seleccionado como variables independientes.\n",
    "modelo_regresion_seleccionado = sm.OLS(y, sm.add_constant(X_seleccionado)).fit()\n",
    "\n",
    "# Imprime un resumen del modelo de regresión ajustado.\n",
    "print(modelo_regresion_seleccionado.summary())"
   ]
  },
  {
   "cell_type": "code",
   "execution_count": 43,
   "metadata": {},
   "outputs": [
    {
     "name": "stdout",
     "output_type": "stream",
     "text": [
      "4.945377440890297e-11\n",
      "680236.9504200877\n"
     ]
    }
   ],
   "source": [
    "# Calcula la suma de los residuos del modelo modelo_regresion_significativo y verifica que sea cercana a cero.\n",
    "residuos = modelo_regresion_seleccionado.resid\n",
    "\n",
    "print(residuos.sum())\n",
    "\n",
    "# Calcula la suma de los residuos al cuadrado y verifica que sea cercana a cero.\n",
    "residuos_cuadrados = residuos**2\n",
    "\n",
    "print(residuos_cuadrados.sum())\n",
    "\n"
   ]
  },
  {
   "cell_type": "code",
   "execution_count": 45,
   "metadata": {},
   "outputs": [
    {
     "name": "stdout",
     "output_type": "stream",
     "text": [
      "Suma de residuos: 4.916955731459893e-11\n"
     ]
    }
   ],
   "source": [
    "# Calcular la suma de los residuos\n",
    "suma_residuos = sum(modelo_regresion_seleccionado.resid)\n",
    "\n",
    "# Verificar que la suma de los residuos sea cercana a cero\n",
    "print(\"Suma de residuos:\", suma_residuos)"
   ]
  },
  {
   "cell_type": "code",
   "execution_count": 48,
   "metadata": {},
   "outputs": [
    {
     "data": {
      "image/png": "[encoded data removed]",
      "text/plain": [
       "<Figure size 640x480 with 1 Axes>"
      ]
     },
     "metadata": {},
     "output_type": "display_data"
    }
   ],
   "source": [
    "import matplotlib.pyplot as plt\n",
    "\n",
    "# Graficar los residuos\n",
    "plt.scatter(modelo_regresion_seleccionado.fittedvalues, modelo_regresion_seleccionado.resid)\n",
    "plt.axhline(y=0, color='r', linestyle='--')  # Línea horizontal en y=0\n",
    "plt.xlabel('Valores Ajustados')\n",
    "plt.ylabel('Residuos')\n",
    "plt.title('Residuos vs. Valores Ajustados')\n",
    "plt.show()"
   ]
  },
  {
   "cell_type": "markdown",
   "metadata": {},
   "source": [
    "# Interpreta los resultados de las pruebas de significancia para las variables del modelo\n",
    "En el desarrollo del modelo, podemos observar que las variables se entrenan las variables Carbohidratos, lipidos, proteinas y lipidos, para posteriormente almacenarlos en otra variable la cual definimos \"variables_significativas\". Aqui podemos observar que las variables que se entrenan son las que tienen un p-valor menor a 0.05, por lo que podemos decir que estas variables son significativas para el modelo.\n"
   ]
  },
  {
   "cell_type": "markdown",
   "metadata": {},
   "source": [
    "# Interpreta los resultados de las pruebas de normalidad, homogeneidad de la varianza e independencia de los residuos.\n",
    "En la prueba de normalidad, se observa que el p-valor es menor a 0.05, por lo que podemos decir que los residuos no siguen una distribución normal, por lo que no podemos decir que los residuos siguen una distribución normal.\n",
    "\n",
    "En la prueba de homogeneidad de la varianza, se observa que el p-valor es menor a 0.05, por lo que podemos decir que los residuos no tienen una varianza constante, por lo que no podemos decir que los residuos tienen una varianza constante.\n",
    "\n",
    "En la prueba de independencia de los residuos, se observa que el p-valor es menor a 0.05, por lo que podemos decir que los residuos no son independientes, por lo que no podemos decir que los residuos son independientes."
   ]
  }
 ],
 "metadata": {
  "kernelspec": {
   "display_name": "Python 3",
   "language": "python",
   "name": "python3"
  },
  "language_info": {
   "codemirror_mode": {
    "name": "ipython",
    "version": 3
   },
   "file_extension": ".py",
   "mimetype": "text/x-python",
   "name": "python",
   "nbconvert_exporter": "python",
   "pygments_lexer": "ipython3",
   "version": "3.11.5"
  }
 },
 "nbformat": 4,
 "nbformat_minor": 2
}
